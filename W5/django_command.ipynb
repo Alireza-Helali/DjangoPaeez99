{
 "cells": [
  {
   "cell_type": "code",
   "execution_count": 2,
   "metadata": {},
   "outputs": [],
   "source": [
    "from user_profile.models import Profile, Address\n",
    "from django.contrib.auth.models import User\n",
    "from restaurant.models import Element, MenuCat, Supplier, Account, Product, ElementAddress, Food"
   ]
  },
  {
   "cell_type": "code",
   "execution_count": 2,
   "metadata": {},
   "outputs": [],
   "source": [
    "qs = User.objects.all().filter(username='kh')"
   ]
  },
  {
   "cell_type": "code",
   "execution_count": 3,
   "metadata": {},
   "outputs": [
    {
     "name": "stdout",
     "output_type": "stream",
     "text": [
      "SELECT \"auth_user\".\"id\", \"auth_user\".\"password\", \"auth_user\".\"last_login\", \"auth_user\".\"is_superuser\", \"auth_user\".\"username\", \"auth_user\".\"first_name\", \"auth_user\".\"last_name\", \"auth_user\".\"email\", \"auth_user\".\"is_staff\", \"auth_user\".\"is_active\", \"auth_user\".\"date_joined\" FROM \"auth_user\" WHERE \"auth_user\".\"username\" = kh\n"
     ]
    }
   ],
   "source": [
    "print(qs.query)"
   ]
  },
  {
   "cell_type": "code",
   "execution_count": 16,
   "metadata": {},
   "outputs": [],
   "source": [
    "a = Article.objects.all()"
   ]
  },
  {
   "cell_type": "code",
   "execution_count": 17,
   "metadata": {},
   "outputs": [
    {
     "name": "stdout",
     "output_type": "stream",
     "text": [
      "ملا قاسم\n",
      "ملا اکبر\n"
     ]
    }
   ],
   "source": [
    "for e in a:\n",
    "    print(e.author.name)"
   ]
  },
  {
   "cell_type": "code",
   "execution_count": 11,
   "metadata": {},
   "outputs": [],
   "source": [
    "a_sr = Article.objects.select_related('author').get(id = 1) "
   ]
  },
  {
   "cell_type": "code",
   "execution_count": 12,
   "metadata": {},
   "outputs": [
    {
     "data": {
      "text/plain": [
       "<Author: ملا قاسم>"
      ]
     },
     "execution_count": 12,
     "metadata": {},
     "output_type": "execute_result"
    }
   ],
   "source": [
    "a_sr.author"
   ]
  },
  {
   "cell_type": "code",
   "execution_count": 2,
   "metadata": {},
   "outputs": [],
   "source": [
    "users = Account.objects.all()"
   ]
  },
  {
   "cell_type": "code",
   "execution_count": 3,
   "metadata": {},
   "outputs": [
    {
     "data": {
      "text/plain": [
       "<QuerySet [<Account: Account object (1)>, <Account: Account object (2)>, <Account: Account object (3)>]>"
      ]
     },
     "execution_count": 3,
     "metadata": {},
     "output_type": "execute_result"
    }
   ],
   "source": [
    "users"
   ]
  },
  {
   "cell_type": "code",
   "execution_count": 4,
   "metadata": {},
   "outputs": [
    {
     "data": {
      "text/plain": [
       "'عادل'"
      ]
     },
     "execution_count": 4,
     "metadata": {},
     "output_type": "execute_result"
    }
   ],
   "source": [
    "users[0].name"
   ]
  },
  {
   "cell_type": "code",
   "execution_count": 6,
   "metadata": {},
   "outputs": [],
   "source": [
    "suppliers = Supplier.objects.all()"
   ]
  },
  {
   "cell_type": "code",
   "execution_count": 8,
   "metadata": {},
   "outputs": [],
   "source": [
    "Product().save()"
   ]
  },
  {
   "cell_type": "code",
   "execution_count": 12,
   "metadata": {},
   "outputs": [],
   "source": [
    "product1 = Product.objects.all()[0]"
   ]
  },
  {
   "cell_type": "code",
   "execution_count": 13,
   "metadata": {},
   "outputs": [],
   "source": [
    "product1.name = 'lebas shui'"
   ]
  },
  {
   "cell_type": "code",
   "execution_count": 18,
   "metadata": {},
   "outputs": [],
   "source": [
    "product1.supplier.add(suppliers[0], suppliers[1])"
   ]
  },
  {
   "cell_type": "code",
   "execution_count": 19,
   "metadata": {},
   "outputs": [],
   "source": [
    "product1.save()"
   ]
  },
  {
   "cell_type": "code",
   "execution_count": 24,
   "metadata": {},
   "outputs": [],
   "source": [
    "products = Product.objects.all()"
   ]
  },
  {
   "cell_type": "code",
   "execution_count": 42,
   "metadata": {},
   "outputs": [
    {
     "name": "stdout",
     "output_type": "stream",
     "text": [
      "<QuerySet [<Supplier: Supplier object (1)>, <Supplier: Supplier object (2)>]>\n",
      "عادل\n",
      "صدیقه\n",
      "<QuerySet [<Supplier: Supplier object (1)>]>\n",
      "عادل\n"
     ]
    },
    {
     "data": {
      "text/plain": [
       "{'lebas shui': ['عادل', 'صدیقه'], 'ekhgkeh': ['عادل']}"
      ]
     },
     "execution_count": 42,
     "metadata": {},
     "output_type": "execute_result"
    }
   ],
   "source": [
    "context = {}\n",
    "for el in products:\n",
    "    context[el.name] = []\n",
    "    sup_e = el.supplier.all()\n",
    "    print(sup_e)\n",
    "    for e in sup_e:\n",
    "        print(e.account.name)\n",
    "        context[el.name].append(e.account.name)\n",
    "context"
   ]
  },
  {
   "cell_type": "code",
   "execution_count": 43,
   "metadata": {},
   "outputs": [],
   "source": [
    "qs = Product.objects.prefetch_related('supplier')"
   ]
  },
  {
   "cell_type": "code",
   "execution_count": 39,
   "metadata": {},
   "outputs": [
    {
     "data": {
      "text/plain": [
       "<QuerySet [<Supplier: Supplier object (1)>, <Supplier: Supplier object (2)>]>"
      ]
     },
     "execution_count": 39,
     "metadata": {},
     "output_type": "execute_result"
    }
   ],
   "source": [
    "qs[0].supplier.all()"
   ]
  },
  {
   "cell_type": "code",
   "execution_count": 44,
   "metadata": {},
   "outputs": [
    {
     "data": {
      "text/plain": [
       "<QuerySet [<User: Mohsen>, <User: Mahdi>, <User: 1234569865>, <User: 12345698>, <User: 12345>, <User: admin>]>"
      ]
     },
     "execution_count": 44,
     "metadata": {},
     "output_type": "execute_result"
    }
   ],
   "source": [
    "User.objects.all()"
   ]
  },
  {
   "cell_type": "code",
   "execution_count": 56,
   "metadata": {},
   "outputs": [],
   "source": [
    "def comma_seperator(value):\n",
    "    temp = []\n",
    "\n",
    "    while True:\n",
    "        temp.append(str(value % 1000))\n",
    "        value //= 1000\n",
    "        if not value:\n",
    "            break\n",
    "    temp = temp[::-1]\n",
    "    sep = ','\n",
    "    res = sep.join(temp)\n",
    "    return res"
   ]
  },
  {
   "cell_type": "code",
   "execution_count": 57,
   "metadata": {},
   "outputs": [
    {
     "data": {
      "text/plain": [
       "'15,265,325,574,654,756,454'"
      ]
     },
     "execution_count": 57,
     "metadata": {},
     "output_type": "execute_result"
    }
   ],
   "source": [
    "comma_seperator(15265325574654756454)"
   ]
  },
  {
   "cell_type": "code",
   "execution_count": 39,
   "metadata": {},
   "outputs": [
    {
     "name": "stdout",
     "output_type": "stream",
     "text": [
      "SELECT \"restaurant_food\".\"id\", \"restaurant_food\".\"name\", \"restaurant_food\".\"description\", \"restaurant_food\".\"price\", \"restaurant_food\".\"status\", \"restaurant_food\".\"rate\", \"restaurant_food\".\"poster\", \"restaurant_food\".\"cat_manu_id\" FROM \"restaurant_food\" INNER JOIN \"restaurant_menucat\" ON (\"restaurant_food\".\"cat_manu_id\" = \"restaurant_menucat\".\"id\") INNER JOIN \"element\" ON (\"restaurant_menucat\".\"element_id\" = \"element\".\"id\") INNER JOIN \"restaurant_elementaddress\" ON (\"element\".\"id\" = \"restaurant_elementaddress\".\"element_id\") INNER JOIN \"geolocation_address\" ON (\"restaurant_elementaddress\".\"address_ptr_id\" = \"geolocation_address\".\"id\") WHERE (\"geolocation_address\".\"city\" = تهران AND \"geolocation_address\".\"street\"::text LIKE %شه% AND \"element\".\"name\"::text LIKE %بار% AND \"restaurant_food\".\"name\"::text LIKE %چلو%)\n"
     ]
    },
    {
     "data": {
      "text/plain": [
       "<QuerySet [<Food: چلو خورشت قیمه سیب زمینی_غذای ایرانی>]>"
      ]
     },
     "execution_count": 39,
     "metadata": {},
     "output_type": "execute_result"
    }
   ],
   "source": [
    "q = Food.objects.filter(name__contains='چلو',cat_manu__element__address__city='تهران', cat_manu__element__name__contains='بار', cat_manu__element__address__street__contains='شه')\n",
    "print(q.query)\n",
    "q"
   ]
  },
  {
   "cell_type": "code",
   "execution_count": 49,
   "metadata": {},
   "outputs": [
    {
     "data": {
      "text/plain": [
       "'restaurant_elementaddress.html'"
      ]
     },
     "execution_count": 49,
     "metadata": {},
     "output_type": "execute_result"
    }
   ],
   "source": [
    "'_'.join(str(ElementAddress._meta).split('.')) + '.html'"
   ]
  },
  {
   "cell_type": "code",
   "execution_count": 50,
   "metadata": {},
   "outputs": [
    {
     "data": {
      "text/plain": [
       "'element'"
      ]
     },
     "execution_count": 50,
     "metadata": {},
     "output_type": "execute_result"
    }
   ],
   "source": [
    "Element._meta.model_name"
   ]
  },
  {
   "cell_type": "code",
   "execution_count": null,
   "metadata": {},
   "outputs": [],
   "source": []
  }
 ],
 "metadata": {
  "kernelspec": {
   "display_name": "Django Shell-Plus",
   "language": "python",
   "name": "django_extensions"
  },
  "language_info": {
   "codemirror_mode": {
    "name": "ipython",
    "version": 3
   },
   "file_extension": ".py",
   "mimetype": "text/x-python",
   "name": "python",
   "nbconvert_exporter": "python",
   "pygments_lexer": "ipython3",
   "version": "3.8.5"
  }
 },
 "nbformat": 4,
 "nbformat_minor": 4
}
